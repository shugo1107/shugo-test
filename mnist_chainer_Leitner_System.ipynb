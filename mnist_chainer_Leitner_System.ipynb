{
 "cells": [
  {
   "cell_type": "code",
   "execution_count": 1,
   "metadata": {
    "ExecuteTime": {
     "end_time": "2019-09-02T10:23:02.484430Z",
     "start_time": "2019-09-02T10:23:00.108640Z"
    }
   },
   "outputs": [],
   "source": [
    "import chainer\n",
    "import chainer.links as L\n",
    "import chainer.functions as F\n",
    "import matplotlib.pyplot as plt\n",
    "import numpy as np"
   ]
  },
  {
   "cell_type": "code",
   "execution_count": 2,
   "metadata": {
    "ExecuteTime": {
     "end_time": "2019-09-02T10:23:02.941545Z",
     "start_time": "2019-09-02T10:23:02.486705Z"
    }
   },
   "outputs": [],
   "source": [
    "train, test = chainer.datasets.get_mnist(ndim=3)"
   ]
  },
  {
   "cell_type": "code",
   "execution_count": 3,
   "metadata": {
    "ExecuteTime": {
     "end_time": "2019-09-02T10:23:02.984988Z",
     "start_time": "2019-09-02T10:23:02.943352Z"
    }
   },
   "outputs": [],
   "source": [
    "class NN(chainer.Chain):\n",
    "    def __init__(self, class_labels=10):\n",
    "        super().__init__()\n",
    "        with self.init_scope():\n",
    "            self.conv1 = L.Convolution2D(None, 16, ksize=5, pad=2, nobias=True)\n",
    "            self.conv2 = L.Convolution2D(None, 16, ksize=5, pad=2, nobias=True)\n",
    "            self.fc1 = L.Linear(None, 100)\n",
    "            self.fc2 = L.Linear(None, class_labels)\n",
    "            \n",
    "    def __call__(self, x):\n",
    "        h = self.conv1(x)\n",
    "        h = F.relu(h)\n",
    "        h = F.max_pooling_2d(h, ksize=2, stride=2)\n",
    "        h = self.conv2(h)\n",
    "        h = F.relu(h)\n",
    "        h = F.max_pooling_2d(h, ksize=2, stride=2)\n",
    "        h = self.fc1(h)\n",
    "        h = F.relu(h)\n",
    "        h = self.fc2(h)\n",
    "        return h"
   ]
  },
  {
   "cell_type": "code",
   "execution_count": 4,
   "metadata": {
    "ExecuteTime": {
     "end_time": "2019-09-02T10:23:02.991755Z",
     "start_time": "2019-09-02T10:23:02.987444Z"
    }
   },
   "outputs": [],
   "source": [
    "nn = NN()\n",
    "model = L.Classifier(nn)"
   ]
  },
  {
   "cell_type": "code",
   "execution_count": 5,
   "metadata": {
    "ExecuteTime": {
     "end_time": "2019-09-02T10:23:03.001126Z",
     "start_time": "2019-09-02T10:23:02.994146Z"
    }
   },
   "outputs": [
    {
     "data": {
      "text/plain": [
       "<chainer.optimizers.adam.Adam at 0xb1e7031d0>"
      ]
     },
     "execution_count": 5,
     "metadata": {},
     "output_type": "execute_result"
    }
   ],
   "source": [
    "optimizer = chainer.optimizers.Adam()\n",
    "optimizer.setup(model)"
   ]
  },
  {
   "cell_type": "code",
   "execution_count": 6,
   "metadata": {
    "ExecuteTime": {
     "end_time": "2019-09-02T10:23:03.006834Z",
     "start_time": "2019-09-02T10:23:03.003448Z"
    }
   },
   "outputs": [],
   "source": [
    "batch_size = 256\n",
    "epoch = 30"
   ]
  },
  {
   "cell_type": "code",
   "execution_count": 7,
   "metadata": {
    "ExecuteTime": {
     "end_time": "2019-09-02T10:23:03.027855Z",
     "start_time": "2019-09-02T10:23:03.011204Z"
    }
   },
   "outputs": [],
   "source": [
    "class LeitnerIterator(chainer.iterators.SerialIterator):\n",
    "    def __init__(self, dataset, batch_size, model, repeat=True, shuffle=None, order_sampler=None, n_queues=10):\n",
    "        super().__init__(dataset, batch_size,repeat, shuffle, order_sampler)\n",
    "        self.model = model\n",
    "        self.n_queues = n_queues\n",
    "        #iteration回数を記憶する\n",
    "        self.n_epochs = 0\n",
    "        #queueの初期化\n",
    "        self.Q = [dataset] + [[]] * (self.n_queues - 1)\n",
    "        #各epochで使われるデータとqueueの位置を格納するリスト\n",
    "        self.using_dataset = []\n",
    "        \n",
    "    def __next__(self):\n",
    "        #新たなqueueに基づいてbatchを作る。       \n",
    "        self.update_queue()\n",
    "        self._previous_epoch_detail = self.epoch_detail\n",
    "        self._state, self.indices = _statemachine.iterator_statemachine(\n",
    "            self._state, self.batch_size, self.repeat, self.order_sampler,\n",
    "            len(self.using_dataset))\n",
    "        if self.indices is None:\n",
    "            raise StopIteration\n",
    "\n",
    "        batch = [self.using_dataset[index][0] for index in self.indices]\n",
    "        \n",
    "        #epochが切り替わった際に使うデータセットを更新。        \n",
    "        if _state.is_new_epoch == True:\n",
    "            self.n_epochs += 1\n",
    "            self.using_dataset = []\n",
    "            for i in range(self.n_queues):\n",
    "                if self.n_epochs % (2 ** i) == 0:\n",
    "                    for j in Q[i]:\n",
    "                        self.using_dataset += [j, i]\n",
    "                    \n",
    "        return batch\n",
    "    \n",
    "    def update_queue(self):\n",
    "        #学習結果をもとにqueueを更新する。\n",
    "        for i in self.indices:\n",
    "            if self.model.predictor(self.using_dataset[i][0][1].reshape(1, 1, 28, 28)).data.argmax(axis=1)[0] == self.using_dataset[i][0][1]:\n",
    "                if self.using_dataset[i][1] < self.n_queues - 1:\n",
    "                    self.Q[self.using_dataset[i][1]].remove(self.using_dataset[i][1])\n",
    "                    self.Q[self.using_dataset[i][1] + 1].append(self.using_dataset[i][1])    \n",
    "            else:\n",
    "                self.Q[self.using_dataset[i][1]].remove(self.using_dataset[i][1])\n",
    "                self.Q[0].append(self.using_dataset[i][1])"
   ]
  },
  {
   "cell_type": "code",
   "execution_count": 8,
   "metadata": {
    "ExecuteTime": {
     "end_time": "2019-09-02T10:23:03.037394Z",
     "start_time": "2019-09-02T10:23:03.030827Z"
    }
   },
   "outputs": [],
   "source": [
    "train_iter = LeitnerIterator(train, batch_size, model)\n",
    "test_iter = chainer.iterators.SerialIterator(test, batch_size, repeat=False, shuffle=False)"
   ]
  },
  {
   "cell_type": "code",
   "execution_count": 9,
   "metadata": {
    "ExecuteTime": {
     "end_time": "2019-09-02T10:23:03.043027Z",
     "start_time": "2019-09-02T10:23:03.039663Z"
    }
   },
   "outputs": [],
   "source": [
    "from chainer import training\n",
    "from chainer.training import extensions"
   ]
  },
  {
   "cell_type": "code",
   "execution_count": 10,
   "metadata": {
    "ExecuteTime": {
     "end_time": "2019-09-02T10:23:03.049348Z",
     "start_time": "2019-09-02T10:23:03.045353Z"
    }
   },
   "outputs": [],
   "source": [
    "updater = training.StandardUpdater(train_iter, optimizer, device=-1)"
   ]
  },
  {
   "cell_type": "code",
   "execution_count": 11,
   "metadata": {
    "ExecuteTime": {
     "end_time": "2019-09-02T10:23:03.059374Z",
     "start_time": "2019-09-02T10:23:03.052831Z"
    }
   },
   "outputs": [],
   "source": [
    "trainer = training.Trainer(updater, (epoch, 'epoch'), out='result/mnist')\n",
    "\n",
    "trainer.extend(extensions.Evaluator(test_iter, model, device=-1))\n",
    "\n",
    "trainer.extend(extensions.LogReport(trigger=(1, 'epoch')))\n",
    "\n",
    "trainer.extend(extensions.PrintReport(['epoch', 'main/accuracy', 'validation/main/accuracy', 'main/loss', 'validation/main/loss','elapsed_time']), trigger=(1, 'epoch'))"
   ]
  },
  {
   "cell_type": "code",
   "execution_count": null,
   "metadata": {
    "ExecuteTime": {
     "start_time": "2019-09-02T10:23:00.075Z"
    }
   },
   "outputs": [
    {
     "name": "stdout",
     "output_type": "stream",
     "text": [
      "epoch       main/accuracy  validation/main/accuracy  main/loss   validation/main/loss  elapsed_time\n",
      "\u001b[J1           0.907098       0.97168                   0.320697    0.0936902             140.162       \n",
      "\u001b[J2           0.974292       0.976465                  0.0863331   0.0693407             350.015       \n",
      "\u001b[J3           0.981582       0.985938                  0.0604799   0.0444126             555.898       \n",
      "\u001b[J4           0.984559       0.988184                  0.0486356   0.0365737             744.051       \n",
      "\u001b[J5           0.987246       0.988086                  0.0398765   0.0348631             914.769       \n",
      "\u001b[J6           0.989262       0.988672                  0.0340496   0.0321054             1086.51       \n",
      "\u001b[J7           0.990618       0.989746                  0.0297901   0.0308071             1221.55       \n",
      "\u001b[J8           0.991253       0.987793                  0.0271333   0.0340598             1355.44       \n",
      "\u001b[J9           0.99237        0.989941                  0.0231851   0.0302123             1488.45       \n",
      "\u001b[J10          0.993974       0.990527                  0.018783    0.0272146             1621.4        \n",
      "\u001b[J11          0.994182       0.990527                  0.0175598   0.0281019             1752.98       \n",
      "\u001b[J12          0.994992       0.990234                  0.0156351   0.0303424             1884.93       \n",
      "\u001b[J13          0.995242       0.990527                  0.0142568   0.028201              2019.92       \n",
      "\u001b[J14          0.995678       0.989941                  0.0124583   0.0309575             2161.66       \n"
     ]
    }
   ],
   "source": [
    "trainer.run()"
   ]
  },
  {
   "cell_type": "code",
   "execution_count": null,
   "metadata": {
    "ExecuteTime": {
     "start_time": "2019-09-02T10:23:00.077Z"
    }
   },
   "outputs": [],
   "source": [
    "test[0]"
   ]
  },
  {
   "cell_type": "code",
   "execution_count": null,
   "metadata": {},
   "outputs": [],
   "source": []
  }
 ],
 "metadata": {
  "kernelspec": {
   "display_name": "Python 3",
   "language": "python",
   "name": "python3"
  },
  "language_info": {
   "codemirror_mode": {
    "name": "ipython",
    "version": 3
   },
   "file_extension": ".py",
   "mimetype": "text/x-python",
   "name": "python",
   "nbconvert_exporter": "python",
   "pygments_lexer": "ipython3",
   "version": "3.7.3"
  },
  "latex_envs": {
   "LaTeX_envs_menu_present": true,
   "autoclose": false,
   "autocomplete": true,
   "bibliofile": "biblio.bib",
   "cite_by": "apalike",
   "current_citInitial": 1,
   "eqLabelWithNumbers": true,
   "eqNumInitial": 1,
   "hotkeys": {
    "equation": "Ctrl-E",
    "itemize": "Ctrl-I"
   },
   "labels_anchors": false,
   "latex_user_defs": false,
   "report_style_numbering": false,
   "user_envs_cfg": false
  },
  "varInspector": {
   "cols": {
    "lenName": 16,
    "lenType": 16,
    "lenVar": 40
   },
   "kernels_config": {
    "python": {
     "delete_cmd_postfix": "",
     "delete_cmd_prefix": "del ",
     "library": "var_list.py",
     "varRefreshCmd": "print(var_dic_list())"
    },
    "r": {
     "delete_cmd_postfix": ") ",
     "delete_cmd_prefix": "rm(",
     "library": "var_list.r",
     "varRefreshCmd": "cat(var_dic_list()) "
    }
   },
   "types_to_exclude": [
    "module",
    "function",
    "builtin_function_or_method",
    "instance",
    "_Feature"
   ],
   "window_display": false
  }
 },
 "nbformat": 4,
 "nbformat_minor": 2
}
